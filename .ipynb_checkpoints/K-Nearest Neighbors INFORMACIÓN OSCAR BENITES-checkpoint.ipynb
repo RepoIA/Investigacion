{
 "cells": [
  {
   "cell_type": "markdown",
   "metadata": {},
   "source": [
    "# K-Nearest Neighbors"
   ]
  },
  {
   "cell_type": "markdown",
   "metadata": {},
   "source": [
    "##### KNN es un método de clasificación supervisada que sirve para estimar la función de densidad:\n",
    "\n",
    "##### f(x/Cj)"
   ]
  },
  {
   "cell_type": "markdown",
   "metadata": {},
   "source": [
    "##### Don de x es la variable independiente y Cj la clase j, por lo que la función determina la probabilidad a posteriori de que la variable x pertenezca a la clase j.\n",
    "\n",
    "##### En el reconocimiento de patrones, el algoritmo KNN es utilizado como método de clasificación de objetos con un entrenamiento a través de ejemplos cercanos en el espacio de diversos elementos. Cada elemento esta descrito en términos de p atributos considerando q clases para la clasificación.\n",
    "\n",
    "##### El espacio de los valores de la variable independiente es particionado en regiones por localizaciones y etiquetas de los elementos de entrenamiento. De esta forma un punto en el espacio es asignado a la clase C, si ésta es la clase más frecuente entre los k elementos más cercanos."
   ]
  },
  {
   "cell_type": "markdown",
   "metadata": {},
   "source": [
    "### Para determinar la cercanía de los elementos se utiliza comúnmente la distancia euclidiana:"
   ]
  },
  {
   "cell_type": "markdown",
   "metadata": {},
   "source": [
    "<img src=\"https://i1.wp.com/www.jacobsoft.com.mx/wp-content/uploads/2018/11/distancia_euclidiana.png?w=309&ssl=1\" witch=\"750\">"
   ]
  },
  {
   "cell_type": "markdown",
   "metadata": {},
   "source": [
    "##### La fase de entrenamiento consiste en almacenar los vectores característicos y las etiquetas de las clases de dichos elementos de entrenamiento.\n",
    "\n",
    "##### En la fase de clasificación se calcula la distancia entre los vectores almacenados y el nuevo vector y se seleccionan los k elementos más cercanos.\n",
    "\n",
    "##### El nuevo vector es clasificado con la clase que más se repite en los vectores seleccionados."
   ]
  },
  {
   "cell_type": "markdown",
   "metadata": {},
   "source": [
    "<img src=\"https://i1.wp.com/www.jacobsoft.com.mx/wp-content/uploads/2018/11/knn1.png?w=543&ssl=1\" witch=\"750\">"
   ]
  },
  {
   "cell_type": "markdown",
   "metadata": {},
   "source": [
    "## Conjunto de datos clasificados en dos categorías\n",
    "##### Considerando un conjunto de datos clasificados en dos categorías, como se muestra en la gráfica anterior, se requiere clasificar un nuevo vector de datos que se encuentra en la región mostrada en la siguiente gráfica."
   ]
  },
  {
   "cell_type": "markdown",
   "metadata": {},
   "source": [
    "<img src=\"https://i1.wp.com/www.jacobsoft.com.mx/wp-content/uploads/2018/11/knn2.png?w=521&ssl=1\" witch=\"750\">"
   ]
  },
  {
   "cell_type": "markdown",
   "metadata": {},
   "source": [
    "## Clasificación de un nuevo vector de datos\n",
    "##### El algoritmo KNN sigue los siguientes pasos para determinar a que categoría pertenece el nuevo dato que se desea clasificar:\n",
    "\n",
    "##### Paso 1: Selecciona el número de K vecinos\n",
    "##### Paso 2: Toma los K vecinos más cercanos al nuevo elemento de acuerdo con la distancia euclidiana\n",
    "##### Paso 3: Entre los K vecinos, contar el número de elementos que pertenece a cada categoría\n",
    "##### Paso 4: Asignar el nuevo elemento a la categoría donde se contaron más vecinos\n",
    "##### Tomando para el ejemplo que K = 5, marcamos los 5 vecinos más cercanos al nuevo elemento"
   ]
  },
  {
   "cell_type": "markdown",
   "metadata": {},
   "source": [
    "<img src=\"https://i2.wp.com/www.jacobsoft.com.mx/wp-content/uploads/2018/11/knn3.png?w=757&ssl=1\" witch=\"750\">"
   ]
  },
  {
   "cell_type": "markdown",
   "metadata": {},
   "source": [
    "## Selección de los K=5 vecinos más cercanos al nuevo elemento\n",
    "##### Contamos que existen 3 elementos de la categoría 1 y dos elementos de la categoría 2 de entre los 5 vecinos más cercanos"
   ]
  },
  {
   "cell_type": "markdown",
   "metadata": {},
   "source": [
    "<img src=\"https://i0.wp.com/www.jacobsoft.com.mx/wp-content/uploads/2018/11/knn4.png?w=858&ssl=1\" witch=\"750\">"
   ]
  },
  {
   "cell_type": "markdown",
   "metadata": {},
   "source": [
    "## 3 elementos de la categoría 1 y 2 elementos de la categoría 2\n",
    "#### Por lo tanto, la categoría con más elementos contados es la categoría 1, por lo que el nuevo elemento se asigna a la categoría 1"
   ]
  },
  {
   "cell_type": "markdown",
   "metadata": {},
   "source": [
    "<img src=\"https://i1.wp.com/www.jacobsoft.com.mx/wp-content/uploads/2018/11/knn5.png?w=858&ssl=1\" witch=\"750\">"
   ]
  },
  {
   "cell_type": "markdown",
   "metadata": {},
   "source": [
    "#### El nuevo elemento se asignó a la categoría 1, dado que para K = 5 existen más vecinos de dicha categoría"
   ]
  },
  {
   "cell_type": "markdown",
   "metadata": {},
   "source": [
    "# LINKS DE INFORMACIÓN\n",
    "### https://www.jacobsoft.com.mx/es_mx/k-nearest-neighbors/\n",
    "### https://www.youtube.com/watch?v=zBCcAtg3P4k&t=25s"
   ]
  }
 ],
 "metadata": {
  "kernelspec": {
   "display_name": "Python 3",
   "language": "python",
   "name": "python3"
  },
  "language_info": {
   "codemirror_mode": {
    "name": "ipython",
    "version": 3
   },
   "file_extension": ".py",
   "mimetype": "text/x-python",
   "name": "python",
   "nbconvert_exporter": "python",
   "pygments_lexer": "ipython3",
   "version": "3.8.1"
  }
 },
 "nbformat": 4,
 "nbformat_minor": 4
}
