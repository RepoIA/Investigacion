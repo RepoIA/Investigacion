{
 "cells": [
  {
   "cell_type": "markdown",
   "metadata": {},
   "source": [
    "# K Nearest Neighbors\n",
    "\n",
    "La intuición detrás del algoritmo KNN es uno de los algoritmos de aprendizaje automático supervisados ​​más simples. Simplemente calcula la distancia de un nuevo punto de datos a todos los demás puntos de datos de entrenamiento. La distancia puede ser de cualquier tipo, por ejemplo, Euclidiana o Manhattan, etc. Luego selecciona los puntos de datos K más cercanos, donde K puede ser cualquier número entero. Finalmente, asigna el punto de datos a la clase a la que pertenece la mayoría de los K puntos de datos."
   ]
  },
  {
   "cell_type": "code",
   "execution_count": 1,
   "metadata": {},
   "outputs": [],
   "source": [
    "#Importamos las Bibliotecaas a utilizar\n",
    "import numpy as np\n",
    "import matplotlib.pyplot as plt\n",
    "import pandas as pd"
   ]
  },
  {
   "cell_type": "code",
   "execution_count": 2,
   "metadata": {},
   "outputs": [],
   "source": [
    "#Importar el conjunto de datos\n",
    "url = \"https://archive.ics.uci.edu/ml/machine-learning-databases/iris/iris.data\"\n",
    "\n",
    "#asigna nombres a las columnas del dataset\n",
    "names = ['sepal-lenght','sepal-width','petal-lenght','petal-width','class']\n",
    "\n",
    "#leer el dataset con pandas dataframe\n",
    "dataset = pd.read_csv(url, names=names)"
   ]
  },
  {
   "cell_type": "code",
   "execution_count": null,
   "metadata": {},
   "outputs": [],
   "source": []
  }
 ],
 "metadata": {
  "kernelspec": {
   "display_name": "Python 3",
   "language": "python",
   "name": "python3"
  },
  "language_info": {
   "codemirror_mode": {
    "name": "ipython",
    "version": 3
   },
   "file_extension": ".py",
   "mimetype": "text/x-python",
   "name": "python",
   "nbconvert_exporter": "python",
   "pygments_lexer": "ipython3",
   "version": "3.8.1"
  }
 },
 "nbformat": 4,
 "nbformat_minor": 4
}
